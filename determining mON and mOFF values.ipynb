{
 "cells": [
  {
   "cell_type": "code",
   "execution_count": 2,
   "metadata": {
    "collapsed": true
   },
   "outputs": [],
   "source": [
    "def bringing_in_data(name,sheet,m):\n",
    "    import numpy as np\n",
    "    import xlrd\n",
    "    book = xlrd.open_workbook(name+'.xls')\n",
    "    sheet = book.sheet_by_name(sheet)\n",
    "    data = [sheet.cell_value(r, m) for r in range(sheet.nrows)]\n",
    "    return data"
   ]
  },
  {
   "cell_type": "code",
   "execution_count": 3,
   "metadata": {
    "collapsed": true
   },
   "outputs": [],
   "source": [
    "def bringing_in_data_cum(name,sheet,m):\n",
    "    import numpy as np\n",
    "    import xlrd\n",
    "    book = xlrd.open_workbook(name+'.xls')\n",
    "    sheet = book.sheet_by_name(sheet)\n",
    "    data = [sheet.cell_value(r, m) for r in range(0,3000)]\n",
    "    return data"
   ]
  },
  {
   "cell_type": "code",
   "execution_count": 4,
   "metadata": {
    "collapsed": true
   },
   "outputs": [],
   "source": [
    "#determines whether a value is above or below a threshold and builds a list of true and false statements\n",
    "def threshold_calculation(intensities,threshold):\n",
    "    my_list = []\n",
    "    for x in intensities:\n",
    "        try:\n",
    "            if x > threshold:\n",
    "                my_list.append(1)\n",
    "            else:\n",
    "                my_list.append(0)\n",
    "        except TypeError:\n",
    "            print(\"Error\")\n",
    "    return my_list"
   ]
  },
  {
   "cell_type": "code",
   "execution_count": 5,
   "metadata": {
    "collapsed": true
   },
   "outputs": [],
   "source": [
    "def flat_list(array):\n",
    "    r = []\n",
    "    while len(array) > 0:\n",
    "        l = array.pop()\n",
    "        if hasattr(l, \"__iter__\"):\n",
    "            array.extend(l)\n",
    "        else:\n",
    "            r.append(l)\n",
    "    return r[::-1]"
   ]
  },
  {
   "cell_type": "code",
   "execution_count": 6,
   "metadata": {
    "collapsed": true
   },
   "outputs": [],
   "source": [
    "import xlwt\n",
    "def building_cum_set(spreadsheet,worksheet,Sheet,filename):\n",
    "    book = xlwt.Workbook()\n",
    "    ws = book.add_sheet(Sheet)\n",
    "    on_list_total = []\n",
    "    off_list_total = []\n",
    "    columns = int(input(\"Please specify number of columns:\"))\n",
    "    for x in range(columns):\n",
    "        my_data = bringing_in_data_cum(spreadsheet,worksheet,(x))\n",
    "        threshold  = float(input(\"Please input threshold value:\"))\n",
    "        my_list1 = threshold_calculation(my_data,threshold)\n",
    "        on_list = determining_on_off(my_list1)\n",
    "        on_list_total.append(on_list[0])\n",
    "        off_list_total.append(on_list[1])\n",
    "    on_list_total_flat = flat_list(on_list_total)\n",
    "    off_list_total_flat = flat_list(off_list_total)\n",
    "    for i, y in enumerate(on_list_total_flat):\n",
    "        ws.write(i, 0 , y)\n",
    "    for j, z in enumerate(off_list_total_flat):\n",
    "        ws.write(j, 1 , z)\n",
    "    book.save(filename+\".xls\")"
   ]
  },
  {
   "cell_type": "code",
   "execution_count": 7,
   "metadata": {
    "collapsed": true
   },
   "outputs": [],
   "source": [
    "def determining_on_off(sequence): \n",
    "    n = 0 \n",
    "    t = 0 \n",
    "    on_list = [] \n",
    "    m = 0 \n",
    "    off_list = [] \n",
    "    count = 0 \n",
    "    for x in sequence: \n",
    "        if count == 0: \n",
    "            t = x\n",
    "            if x == 1:\n",
    "                n += 1\n",
    "            else:\n",
    "                n += 1\n",
    "            count += 1 \n",
    "        else: \n",
    "            if t == x: \n",
    "                if t == 1: \n",
    "                    n += 1 \n",
    "                else: \n",
    "                    m += 1 \n",
    "            else: \n",
    "                if t == 1: \n",
    "                    on_list.append(n) \n",
    "                    n = 0\n",
    "                    t = x\n",
    "                    m += 1\n",
    "                else: \n",
    "                    off_list.append(m) \n",
    "                    m = 0 \n",
    "                    t = x\n",
    "                    n += 1\n",
    "    return on_list,off_list"
   ]
  },
  {
   "cell_type": "markdown",
   "metadata": {},
   "source": [
    "the program below does the bulk of the work. This program takes in the histogram, deletes all of the zeros, and then begins the tedious process of finding the probability density and time values. This will then spit out a mON and mOFF value based on the data"
   ]
  },
  {
   "cell_type": "code",
   "execution_count": 8,
   "metadata": {
    "collapsed": true
   },
   "outputs": [],
   "source": [
    "import xlwt\n",
    "def finding_mON_mOFF(Sheet,filename,histogram_on):\n",
    "    book = xlwt.Workbook()\n",
    "    ws = book.add_sheet(Sheet)\n",
    "    count = 1\n",
    "    for x in histogram_on:\n",
    "        if x[1] == 0:\n",
    "            histogram_on =  np.delete(histogram_on, (int((x[0]-count))),axis=0)\n",
    "            count += 1\n",
    "    count = 0\n",
    "    count1 = 0\n",
    "    list_times_on = []\n",
    "    total_on_events = 0\n",
    "    probability_on = []\n",
    "    list_average_times = [.1106]\n",
    "    probability_density = []\n",
    "    log_times_on = []\n",
    "    log_probability_density = []\n",
    "    for y in histogram_on:\n",
    "        list_times_on.append(.1106*y[0])\n",
    "    for z in histogram_on:\n",
    "        total_on_events = total_on_events + z[1]\n",
    "    for a in histogram_on:\n",
    "        probability_on.append(a[1]/total_on_events)\n",
    "    while True:\n",
    "        if list_times_on[count] == max(list_times_on[0:int(len(list_times_on)-1)]):\n",
    "            break\n",
    "        else:\n",
    "            list_average_times.append((list_times_on[count+2]-list_times_on[count])*.5)\n",
    "            count += 1\n",
    "    for d in list_average_times:\n",
    "        probability_density.append(probability_on[count1]/d)\n",
    "        count1 += 1\n",
    "    for b in list_times_on:\n",
    "        log_times_on.append(np.log10(b))\n",
    "    log_times_on = np.delete(log_times_on, (len(log_times_on)-1))\n",
    "    for c in probability_density:\n",
    "        log_probability_density.append(np.log10(c))\n",
    "    mON = np.polyfit(log_times_on,log_probability_density,1)\n",
    "    for l, n in enumerate(list_times_on):\n",
    "        ws.write(l, 0 , n)\n",
    "    for f, w in enumerate(list_average_times):\n",
    "        ws.write(f, 1 , w)\n",
    "    for m, o in enumerate(probability_on):\n",
    "        ws.write(m, 2 , o)\n",
    "    for k, p in enumerate(probability_density):\n",
    "        ws.write(k, 3 , p)\n",
    "    for i, y in enumerate(log_times_on):\n",
    "        ws.write(i, 4 , y)\n",
    "    for j, z in enumerate(log_probability_density):\n",
    "        ws.write(j, 5 , z)\n",
    "    book.save(filename+\".xls\")\n",
    "    return (mON[0])"
   ]
  },
  {
   "cell_type": "markdown",
   "metadata": {},
   "source": [
    "the program below also the users to define a work sheet in order to get out individual mON and mOFF values"
   ]
  },
  {
   "cell_type": "code",
   "execution_count": 9,
   "metadata": {
    "collapsed": true
   },
   "outputs": [],
   "source": [
    "#this program is a subset of the above one, this just takes in the already histogrammed values in order to make it work with\n",
    "#cumulative data sets\n",
    "import numpy as np\n",
    "import xlwt\n",
    "def cumulative_data(on_list,off_list):\n",
    "    on_list.sort()\n",
    "    off_list.sort()\n",
    "    time_bin_on = np.delete(np.histogram(on_list,bins=(max(on_list)), range=(1,max(on_list)+1))[1],[int(max(on_list))])\n",
    "    time_bin_off = np.delete(np.histogram(off_list,bins=(max(off_list)), range=(1,max(off_list)+1))[1],[int(max(off_list))])\n",
    "    occurences_on = np.histogram(on_list,bins=(max(on_list)), range=(1,max(on_list)+1))[0]\n",
    "    occurences_off = np.histogram(off_list,bins=(max(off_list)), range=(1,max(off_list)+1))[0]\n",
    "    histogram_on1 = np.vstack((time_bin_on,occurences_on)).T\n",
    "    histogram_off1 = np.vstack((time_bin_off,occurences_off)).T\n",
    "    mON = finding_mON_mOFF('ON','ON_result',histogram_on1)\n",
    "    mOFF = finding_mON_mOFF('OFF','OFF_result',histogram_off1)\n",
    "    return mON , mOFF"
   ]
  },
  {
   "cell_type": "markdown",
   "metadata": {},
   "source": [
    "The program below is capable of taking in a set of cumulative data for determining the on value. the one condition is that ti has to have the histogram part all done to begin with. In order to make the process go by faster, there will be a second program that will write all of these out and hopefully keep appending them so that it is incredibly quick and efficient"
   ]
  },
  {
   "cell_type": "code",
   "execution_count": 17,
   "metadata": {
    "scrolled": false
   },
   "outputs": [
    {
     "name": "stdout",
     "output_type": "stream",
     "text": [
      "-1.91557501909\n",
      "-1.56071345992\n"
     ]
    }
   ],
   "source": [
    "on_data1 = bringing_in_data('result','Sheet1',0)\n",
    "on_data2 = []\n",
    "for x in on_data1:\n",
    "    if x == '':\n",
    "        pass\n",
    "    else:\n",
    "        on_data2.append(int(x))\n",
    "off_data1 = bringing_in_data('result','Sheet1',1)\n",
    "off_data2 = []\n",
    "for y in off_data1:\n",
    "    if y == '':\n",
    "        pass\n",
    "    else:\n",
    "        off_data2.append(int(y))\n",
    "mON_cum = cumulative_data(on_data2,off_data2)[0]\n",
    "mOFF_cum = cumulative_data(on_data2,off_data2)[1]\n",
    "print(mON_cum)\n",
    "print(mOFF_cum)"
   ]
  },
  {
   "cell_type": "code",
   "execution_count": 10,
   "metadata": {},
   "outputs": [
    {
     "ename": "FileNotFoundError",
     "evalue": "[Errno 2] No such file or directory: '1st nitro ROI data C.xls'",
     "output_type": "error",
     "traceback": [
      "\u001b[1;31m---------------------------------------------------------------------------\u001b[0m",
      "\u001b[1;31mFileNotFoundError\u001b[0m                         Traceback (most recent call last)",
      "\u001b[1;32m<ipython-input-10-ba2e8a29636f>\u001b[0m in \u001b[0;36m<module>\u001b[1;34m()\u001b[0m\n\u001b[0;32m      1\u001b[0m \u001b[1;32mimport\u001b[0m \u001b[0mnumpy\u001b[0m \u001b[1;32mas\u001b[0m \u001b[0mnp\u001b[0m\u001b[1;33m\u001b[0m\u001b[0m\n\u001b[1;32m----> 2\u001b[1;33m \u001b[0mmy_data\u001b[0m \u001b[1;33m=\u001b[0m \u001b[0mbringing_in_data\u001b[0m\u001b[1;33m(\u001b[0m\u001b[1;34m'1st nitro ROI data C'\u001b[0m\u001b[1;33m,\u001b[0m\u001b[1;34m'1st nitro ROI data C'\u001b[0m\u001b[1;33m,\u001b[0m\u001b[1;36m3\u001b[0m\u001b[1;33m)\u001b[0m\u001b[1;33m;\u001b[0m\u001b[1;33m\u001b[0m\u001b[0m\n\u001b[0m\u001b[0;32m      3\u001b[0m \u001b[0mmy_list\u001b[0m \u001b[1;33m=\u001b[0m \u001b[0mthreshold_calculation\u001b[0m\u001b[1;33m(\u001b[0m\u001b[0mmy_data\u001b[0m\u001b[1;33m,\u001b[0m\u001b[1;36m360\u001b[0m\u001b[1;33m)\u001b[0m\u001b[1;33m\u001b[0m\u001b[0m\n\u001b[0;32m      4\u001b[0m \u001b[0mon_list\u001b[0m \u001b[1;33m=\u001b[0m \u001b[0mdetermining_on_off\u001b[0m\u001b[1;33m(\u001b[0m\u001b[0mmy_list\u001b[0m\u001b[1;33m)\u001b[0m\u001b[1;33m[\u001b[0m\u001b[1;36m0\u001b[0m\u001b[1;33m]\u001b[0m\u001b[1;33m\u001b[0m\u001b[0m\n\u001b[0;32m      5\u001b[0m \u001b[0moff_list\u001b[0m \u001b[1;33m=\u001b[0m \u001b[0mdetermining_on_off\u001b[0m\u001b[1;33m(\u001b[0m\u001b[0mmy_list\u001b[0m\u001b[1;33m)\u001b[0m\u001b[1;33m[\u001b[0m\u001b[1;36m1\u001b[0m\u001b[1;33m]\u001b[0m\u001b[1;33m\u001b[0m\u001b[0m\n",
      "\u001b[1;32m<ipython-input-1-5e3bd39cbc11>\u001b[0m in \u001b[0;36mbringing_in_data\u001b[1;34m(name, sheet, m)\u001b[0m\n\u001b[0;32m      2\u001b[0m     \u001b[1;32mimport\u001b[0m \u001b[0mnumpy\u001b[0m \u001b[1;32mas\u001b[0m \u001b[0mnp\u001b[0m\u001b[1;33m\u001b[0m\u001b[0m\n\u001b[0;32m      3\u001b[0m     \u001b[1;32mimport\u001b[0m \u001b[0mxlrd\u001b[0m\u001b[1;33m\u001b[0m\u001b[0m\n\u001b[1;32m----> 4\u001b[1;33m     \u001b[0mbook\u001b[0m \u001b[1;33m=\u001b[0m \u001b[0mxlrd\u001b[0m\u001b[1;33m.\u001b[0m\u001b[0mopen_workbook\u001b[0m\u001b[1;33m(\u001b[0m\u001b[0mname\u001b[0m\u001b[1;33m+\u001b[0m\u001b[1;34m'.xls'\u001b[0m\u001b[1;33m)\u001b[0m\u001b[1;33m\u001b[0m\u001b[0m\n\u001b[0m\u001b[0;32m      5\u001b[0m     \u001b[0msheet\u001b[0m \u001b[1;33m=\u001b[0m \u001b[0mbook\u001b[0m\u001b[1;33m.\u001b[0m\u001b[0msheet_by_name\u001b[0m\u001b[1;33m(\u001b[0m\u001b[0msheet\u001b[0m\u001b[1;33m)\u001b[0m\u001b[1;33m\u001b[0m\u001b[0m\n\u001b[0;32m      6\u001b[0m     \u001b[0mdata\u001b[0m \u001b[1;33m=\u001b[0m \u001b[1;33m[\u001b[0m\u001b[0msheet\u001b[0m\u001b[1;33m.\u001b[0m\u001b[0mcell_value\u001b[0m\u001b[1;33m(\u001b[0m\u001b[0mr\u001b[0m\u001b[1;33m,\u001b[0m \u001b[0mm\u001b[0m\u001b[1;33m)\u001b[0m \u001b[1;32mfor\u001b[0m \u001b[0mr\u001b[0m \u001b[1;32min\u001b[0m \u001b[0mrange\u001b[0m\u001b[1;33m(\u001b[0m\u001b[0msheet\u001b[0m\u001b[1;33m.\u001b[0m\u001b[0mnrows\u001b[0m\u001b[1;33m)\u001b[0m\u001b[1;33m]\u001b[0m\u001b[1;33m\u001b[0m\u001b[0m\n",
      "\u001b[1;32m~\\AppData\\Local\\Continuum\\anaconda3.6\\lib\\site-packages\\xlrd\\__init__.py\u001b[0m in \u001b[0;36mopen_workbook\u001b[1;34m(filename, logfile, verbosity, use_mmap, file_contents, encoding_override, formatting_info, on_demand, ragged_rows)\u001b[0m\n\u001b[0;32m    114\u001b[0m         \u001b[0mpeek\u001b[0m \u001b[1;33m=\u001b[0m \u001b[0mfile_contents\u001b[0m\u001b[1;33m[\u001b[0m\u001b[1;33m:\u001b[0m\u001b[0mpeeksz\u001b[0m\u001b[1;33m]\u001b[0m\u001b[1;33m\u001b[0m\u001b[0m\n\u001b[0;32m    115\u001b[0m     \u001b[1;32melse\u001b[0m\u001b[1;33m:\u001b[0m\u001b[1;33m\u001b[0m\u001b[0m\n\u001b[1;32m--> 116\u001b[1;33m         \u001b[1;32mwith\u001b[0m \u001b[0mopen\u001b[0m\u001b[1;33m(\u001b[0m\u001b[0mfilename\u001b[0m\u001b[1;33m,\u001b[0m \u001b[1;34m\"rb\"\u001b[0m\u001b[1;33m)\u001b[0m \u001b[1;32mas\u001b[0m \u001b[0mf\u001b[0m\u001b[1;33m:\u001b[0m\u001b[1;33m\u001b[0m\u001b[0m\n\u001b[0m\u001b[0;32m    117\u001b[0m             \u001b[0mpeek\u001b[0m \u001b[1;33m=\u001b[0m \u001b[0mf\u001b[0m\u001b[1;33m.\u001b[0m\u001b[0mread\u001b[0m\u001b[1;33m(\u001b[0m\u001b[0mpeeksz\u001b[0m\u001b[1;33m)\u001b[0m\u001b[1;33m\u001b[0m\u001b[0m\n\u001b[0;32m    118\u001b[0m     \u001b[1;32mif\u001b[0m \u001b[0mpeek\u001b[0m \u001b[1;33m==\u001b[0m \u001b[1;34mb\"PK\\x03\\x04\"\u001b[0m\u001b[1;33m:\u001b[0m \u001b[1;31m# a ZIP file\u001b[0m\u001b[1;33m\u001b[0m\u001b[0m\n",
      "\u001b[1;31mFileNotFoundError\u001b[0m: [Errno 2] No such file or directory: '1st nitro ROI data C.xls'"
     ]
    }
   ],
   "source": [
    "import numpy as np\n",
    "my_data = bringing_in_data('1st nitro ROI data C','1st nitro ROI data C',3);\n",
    "my_list = threshold_calculation(my_data,360)\n",
    "on_list = determining_on_off(my_list)[0]\n",
    "off_list = determining_on_off(my_list)[1]\n",
    "on_list.sort()\n",
    "off_list.sort()\n",
    "time_bin_on = np.delete(np.histogram(on_list,bins=(max(on_list)), range=(1,max(on_list)+1))[1],[int(max(on_list))])\n",
    "time_bin_off = np.delete(np.histogram(off_list,bins=(max(off_list)), range=(1,max(off_list)+1))[1],[int(max(off_list))])\n",
    "occurences_on = np.histogram(on_list,bins=(max(on_list)), range=(1,max(on_list)+1))[0]\n",
    "occurences_off = np.histogram(off_list,bins=(max(off_list)), range=(1,max(off_list)+1))[0]\n",
    "histogram_on1 = np.vstack((time_bin_on,occurences_on)).T\n",
    "histogram_off1 = np.vstack((time_bin_off,occurences_off)).T\n",
    "mON = finding_mON_mOFF('ON','single_ON_List', histogram_on1)\n",
    "mOFF = finding_mON_mOFF('OFF','single_OFF_List', histogram_off1)\n",
    "print(mON)\n",
    "print(mOFF)"
   ]
  },
  {
   "cell_type": "code",
   "execution_count": 10,
   "metadata": {},
   "outputs": [
    {
     "name": "stdout",
     "output_type": "stream",
     "text": [
      "Please specify number of columns:10\n",
      "Please input threshold value:5\n"
     ]
    },
    {
     "ename": "KeyboardInterrupt",
     "evalue": "",
     "output_type": "error",
     "traceback": [
      "\u001b[1;31m---------------------------------------------------------------------------\u001b[0m",
      "\u001b[1;31mKeyboardInterrupt\u001b[0m                         Traceback (most recent call last)",
      "\u001b[1;32m~\\AppData\\Local\\Continuum\\anaconda3.6\\lib\\site-packages\\ipykernel\\kernelbase.py\u001b[0m in \u001b[0;36m_input_request\u001b[1;34m(self, prompt, ident, parent, password)\u001b[0m\n\u001b[0;32m    729\u001b[0m             \u001b[1;32mtry\u001b[0m\u001b[1;33m:\u001b[0m\u001b[1;33m\u001b[0m\u001b[0m\n\u001b[1;32m--> 730\u001b[1;33m                 \u001b[0mident\u001b[0m\u001b[1;33m,\u001b[0m \u001b[0mreply\u001b[0m \u001b[1;33m=\u001b[0m \u001b[0mself\u001b[0m\u001b[1;33m.\u001b[0m\u001b[0msession\u001b[0m\u001b[1;33m.\u001b[0m\u001b[0mrecv\u001b[0m\u001b[1;33m(\u001b[0m\u001b[0mself\u001b[0m\u001b[1;33m.\u001b[0m\u001b[0mstdin_socket\u001b[0m\u001b[1;33m,\u001b[0m \u001b[1;36m0\u001b[0m\u001b[1;33m)\u001b[0m\u001b[1;33m\u001b[0m\u001b[0m\n\u001b[0m\u001b[0;32m    731\u001b[0m             \u001b[1;32mexcept\u001b[0m \u001b[0mException\u001b[0m\u001b[1;33m:\u001b[0m\u001b[1;33m\u001b[0m\u001b[0m\n",
      "\u001b[1;32m~\\AppData\\Local\\Continuum\\anaconda3.6\\lib\\site-packages\\jupyter_client\\session.py\u001b[0m in \u001b[0;36mrecv\u001b[1;34m(self, socket, mode, content, copy)\u001b[0m\n\u001b[0;32m    795\u001b[0m         \u001b[1;32mtry\u001b[0m\u001b[1;33m:\u001b[0m\u001b[1;33m\u001b[0m\u001b[0m\n\u001b[1;32m--> 796\u001b[1;33m             \u001b[0mmsg_list\u001b[0m \u001b[1;33m=\u001b[0m \u001b[0msocket\u001b[0m\u001b[1;33m.\u001b[0m\u001b[0mrecv_multipart\u001b[0m\u001b[1;33m(\u001b[0m\u001b[0mmode\u001b[0m\u001b[1;33m,\u001b[0m \u001b[0mcopy\u001b[0m\u001b[1;33m=\u001b[0m\u001b[0mcopy\u001b[0m\u001b[1;33m)\u001b[0m\u001b[1;33m\u001b[0m\u001b[0m\n\u001b[0m\u001b[0;32m    797\u001b[0m         \u001b[1;32mexcept\u001b[0m \u001b[0mzmq\u001b[0m\u001b[1;33m.\u001b[0m\u001b[0mZMQError\u001b[0m \u001b[1;32mas\u001b[0m \u001b[0me\u001b[0m\u001b[1;33m:\u001b[0m\u001b[1;33m\u001b[0m\u001b[0m\n",
      "\u001b[1;32m~\\AppData\\Local\\Continuum\\anaconda3.6\\lib\\site-packages\\zmq\\sugar\\socket.py\u001b[0m in \u001b[0;36mrecv_multipart\u001b[1;34m(self, flags, copy, track)\u001b[0m\n\u001b[0;32m    394\u001b[0m         \"\"\"\n\u001b[1;32m--> 395\u001b[1;33m         \u001b[0mparts\u001b[0m \u001b[1;33m=\u001b[0m \u001b[1;33m[\u001b[0m\u001b[0mself\u001b[0m\u001b[1;33m.\u001b[0m\u001b[0mrecv\u001b[0m\u001b[1;33m(\u001b[0m\u001b[0mflags\u001b[0m\u001b[1;33m,\u001b[0m \u001b[0mcopy\u001b[0m\u001b[1;33m=\u001b[0m\u001b[0mcopy\u001b[0m\u001b[1;33m,\u001b[0m \u001b[0mtrack\u001b[0m\u001b[1;33m=\u001b[0m\u001b[0mtrack\u001b[0m\u001b[1;33m)\u001b[0m\u001b[1;33m]\u001b[0m\u001b[1;33m\u001b[0m\u001b[0m\n\u001b[0m\u001b[0;32m    396\u001b[0m         \u001b[1;31m# have first part already, only loop while more to receive\u001b[0m\u001b[1;33m\u001b[0m\u001b[1;33m\u001b[0m\u001b[0m\n",
      "\u001b[1;32mzmq/backend/cython/socket.pyx\u001b[0m in \u001b[0;36mzmq.backend.cython.socket.Socket.recv (zmq\\backend\\cython\\socket.c:7683)\u001b[1;34m()\u001b[0m\n",
      "\u001b[1;32mzmq/backend/cython/socket.pyx\u001b[0m in \u001b[0;36mzmq.backend.cython.socket.Socket.recv (zmq\\backend\\cython\\socket.c:7460)\u001b[1;34m()\u001b[0m\n",
      "\u001b[1;32mzmq/backend/cython/socket.pyx\u001b[0m in \u001b[0;36mzmq.backend.cython.socket._recv_copy (zmq\\backend\\cython\\socket.c:2344)\u001b[1;34m()\u001b[0m\n",
      "\u001b[1;32m~\\AppData\\Local\\Continuum\\anaconda3.6\\lib\\site-packages\\zmq\\backend\\cython\\checkrc.pxd\u001b[0m in \u001b[0;36mzmq.backend.cython.checkrc._check_rc (zmq\\backend\\cython\\socket.c:9621)\u001b[1;34m()\u001b[0m\n",
      "\u001b[1;31mKeyboardInterrupt\u001b[0m: ",
      "\nDuring handling of the above exception, another exception occurred:\n",
      "\u001b[1;31mKeyboardInterrupt\u001b[0m                         Traceback (most recent call last)",
      "\u001b[1;32m<ipython-input-10-f479bd047aa6>\u001b[0m in \u001b[0;36m<module>\u001b[1;34m()\u001b[0m\n\u001b[1;32m----> 1\u001b[1;33m \u001b[0mbuilding_cum_set\u001b[0m\u001b[1;33m(\u001b[0m\u001b[1;34m\"test_file\"\u001b[0m\u001b[1;33m,\u001b[0m\u001b[1;34m\"Sheet1\"\u001b[0m\u001b[1;33m,\u001b[0m\u001b[1;34m'Sheet1'\u001b[0m\u001b[1;33m,\u001b[0m\u001b[1;34m'result1'\u001b[0m\u001b[1;33m)\u001b[0m\u001b[1;33m\u001b[0m\u001b[0m\n\u001b[0m",
      "\u001b[1;32m<ipython-input-6-5ef3239d8f08>\u001b[0m in \u001b[0;36mbuilding_cum_set\u001b[1;34m(spreadsheet, worksheet, Sheet, filename)\u001b[0m\n\u001b[0;32m      8\u001b[0m     \u001b[1;32mfor\u001b[0m \u001b[0mx\u001b[0m \u001b[1;32min\u001b[0m \u001b[0mrange\u001b[0m\u001b[1;33m(\u001b[0m\u001b[0mcolumns\u001b[0m\u001b[1;33m)\u001b[0m\u001b[1;33m:\u001b[0m\u001b[1;33m\u001b[0m\u001b[0m\n\u001b[0;32m      9\u001b[0m         \u001b[0mmy_data\u001b[0m \u001b[1;33m=\u001b[0m \u001b[0mbringing_in_data_cum\u001b[0m\u001b[1;33m(\u001b[0m\u001b[0mspreadsheet\u001b[0m\u001b[1;33m,\u001b[0m\u001b[0mworksheet\u001b[0m\u001b[1;33m,\u001b[0m\u001b[1;33m(\u001b[0m\u001b[0mx\u001b[0m\u001b[1;33m)\u001b[0m\u001b[1;33m)\u001b[0m\u001b[1;33m\u001b[0m\u001b[0m\n\u001b[1;32m---> 10\u001b[1;33m         \u001b[0mthreshold\u001b[0m  \u001b[1;33m=\u001b[0m \u001b[0mfloat\u001b[0m\u001b[1;33m(\u001b[0m\u001b[0minput\u001b[0m\u001b[1;33m(\u001b[0m\u001b[1;34m\"Please input threshold value:\"\u001b[0m\u001b[1;33m)\u001b[0m\u001b[1;33m)\u001b[0m\u001b[1;33m\u001b[0m\u001b[0m\n\u001b[0m\u001b[0;32m     11\u001b[0m         \u001b[0mmy_list1\u001b[0m \u001b[1;33m=\u001b[0m \u001b[0mthreshold_calculation\u001b[0m\u001b[1;33m(\u001b[0m\u001b[0mmy_data\u001b[0m\u001b[1;33m,\u001b[0m\u001b[0mthreshold\u001b[0m\u001b[1;33m)\u001b[0m\u001b[1;33m\u001b[0m\u001b[0m\n\u001b[0;32m     12\u001b[0m         \u001b[0mon_list\u001b[0m \u001b[1;33m=\u001b[0m \u001b[0mdetermining_on_off\u001b[0m\u001b[1;33m(\u001b[0m\u001b[0mmy_list1\u001b[0m\u001b[1;33m)\u001b[0m\u001b[1;33m\u001b[0m\u001b[0m\n",
      "\u001b[1;32m~\\AppData\\Local\\Continuum\\anaconda3.6\\lib\\site-packages\\ipykernel\\kernelbase.py\u001b[0m in \u001b[0;36mraw_input\u001b[1;34m(self, prompt)\u001b[0m\n\u001b[0;32m    703\u001b[0m             \u001b[0mself\u001b[0m\u001b[1;33m.\u001b[0m\u001b[0m_parent_ident\u001b[0m\u001b[1;33m,\u001b[0m\u001b[1;33m\u001b[0m\u001b[0m\n\u001b[0;32m    704\u001b[0m             \u001b[0mself\u001b[0m\u001b[1;33m.\u001b[0m\u001b[0m_parent_header\u001b[0m\u001b[1;33m,\u001b[0m\u001b[1;33m\u001b[0m\u001b[0m\n\u001b[1;32m--> 705\u001b[1;33m             \u001b[0mpassword\u001b[0m\u001b[1;33m=\u001b[0m\u001b[1;32mFalse\u001b[0m\u001b[1;33m,\u001b[0m\u001b[1;33m\u001b[0m\u001b[0m\n\u001b[0m\u001b[0;32m    706\u001b[0m         )\n\u001b[0;32m    707\u001b[0m \u001b[1;33m\u001b[0m\u001b[0m\n",
      "\u001b[1;32m~\\AppData\\Local\\Continuum\\anaconda3.6\\lib\\site-packages\\ipykernel\\kernelbase.py\u001b[0m in \u001b[0;36m_input_request\u001b[1;34m(self, prompt, ident, parent, password)\u001b[0m\n\u001b[0;32m    733\u001b[0m             \u001b[1;32mexcept\u001b[0m \u001b[0mKeyboardInterrupt\u001b[0m\u001b[1;33m:\u001b[0m\u001b[1;33m\u001b[0m\u001b[0m\n\u001b[0;32m    734\u001b[0m                 \u001b[1;31m# re-raise KeyboardInterrupt, to truncate traceback\u001b[0m\u001b[1;33m\u001b[0m\u001b[1;33m\u001b[0m\u001b[0m\n\u001b[1;32m--> 735\u001b[1;33m                 \u001b[1;32mraise\u001b[0m \u001b[0mKeyboardInterrupt\u001b[0m\u001b[1;33m\u001b[0m\u001b[0m\n\u001b[0m\u001b[0;32m    736\u001b[0m             \u001b[1;32melse\u001b[0m\u001b[1;33m:\u001b[0m\u001b[1;33m\u001b[0m\u001b[0m\n\u001b[0;32m    737\u001b[0m                 \u001b[1;32mbreak\u001b[0m\u001b[1;33m\u001b[0m\u001b[0m\n",
      "\u001b[1;31mKeyboardInterrupt\u001b[0m: "
     ]
    }
   ],
   "source": [
    "building_cum_set(\"test_file\",\"Sheet1\",'Sheet1','result1')"
   ]
  },
  {
   "cell_type": "code",
   "execution_count": 1,
   "metadata": {},
   "outputs": [
    {
     "ename": "NameError",
     "evalue": "name 'bringing_in_data' is not defined",
     "output_type": "error",
     "traceback": [
      "\u001b[1;31m---------------------------------------------------------------------------\u001b[0m",
      "\u001b[1;31mNameError\u001b[0m                                 Traceback (most recent call last)",
      "\u001b[1;32m<ipython-input-1-e29d2dd51695>\u001b[0m in \u001b[0;36m<module>\u001b[1;34m()\u001b[0m\n\u001b[1;32m----> 1\u001b[1;33m \u001b[0mon_data1\u001b[0m \u001b[1;33m=\u001b[0m \u001b[0mbringing_in_data\u001b[0m\u001b[1;33m(\u001b[0m\u001b[1;34m\"test_file\"\u001b[0m\u001b[1;33m,\u001b[0m\u001b[1;34m\"Sheet1\"\u001b[0m\u001b[1;33m,\u001b[0m\u001b[1;36m0\u001b[0m\u001b[1;33m)\u001b[0m\u001b[1;33m\u001b[0m\u001b[0m\n\u001b[0m\u001b[0;32m      2\u001b[0m \u001b[0mon_data2\u001b[0m \u001b[1;33m=\u001b[0m \u001b[1;33m[\u001b[0m\u001b[1;33m]\u001b[0m\u001b[1;33m\u001b[0m\u001b[0m\n\u001b[0;32m      3\u001b[0m \u001b[1;32mfor\u001b[0m \u001b[0mx\u001b[0m \u001b[1;32min\u001b[0m \u001b[0mon_data1\u001b[0m\u001b[1;33m:\u001b[0m\u001b[1;33m\u001b[0m\u001b[0m\n\u001b[0;32m      4\u001b[0m     \u001b[1;32mif\u001b[0m \u001b[0mx\u001b[0m \u001b[1;33m==\u001b[0m \u001b[1;34m''\u001b[0m\u001b[1;33m:\u001b[0m\u001b[1;33m\u001b[0m\u001b[0m\n\u001b[0;32m      5\u001b[0m         \u001b[1;32mpass\u001b[0m\u001b[1;33m\u001b[0m\u001b[0m\n",
      "\u001b[1;31mNameError\u001b[0m: name 'bringing_in_data' is not defined"
     ]
    }
   ],
   "source": [
    "on_data1 = bringing_in_data('result1','Sheet1',0)\n",
    "on_data2 = []\n",
    "for x in on_data1:\n",
    "    if x == '':\n",
    "        pass\n",
    "    else:\n",
    "        on_data2.append(int(x))\n",
    "off_data1 = bringing_in_data('result1','Sheet1',1)\n",
    "off_data2 = []\n",
    "for y in off_data1:\n",
    "    if y == '':\n",
    "        pass\n",
    "    else:\n",
    "        off_data2.append(int(y))\n",
    "mON_cum = cumulative_data(on_data2,off_data2)[0]\n",
    "mOFF_cum = cumulative_data(on_data2,off_data2)[1]\n",
    "print(mON_cum)\n",
    "print(mOFF_cum)"
   ]
  },
  {
   "cell_type": "code",
   "execution_count": null,
   "metadata": {
    "collapsed": true
   },
   "outputs": [],
   "source": []
  }
 ],
 "metadata": {
  "kernelspec": {
   "display_name": "Python 3",
   "language": "python",
   "name": "python3"
  },
  "language_info": {
   "codemirror_mode": {
    "name": "ipython",
    "version": 3
   },
   "file_extension": ".py",
   "mimetype": "text/x-python",
   "name": "python",
   "nbconvert_exporter": "python",
   "pygments_lexer": "ipython3",
   "version": "3.6.3"
  }
 },
 "nbformat": 4,
 "nbformat_minor": 2
}
